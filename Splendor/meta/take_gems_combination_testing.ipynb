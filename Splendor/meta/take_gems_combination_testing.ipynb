{
 "cells": [
  {
   "cell_type": "code",
   "execution_count": 7,
   "metadata": {},
   "outputs": [],
   "source": [
    "import itertools as it\n",
    "import numpy as np\n",
    "import tensorflow as tf\n",
    "gems = [2, 3, 0, 4, 5]"
   ]
  },
  {
   "cell_type": "code",
   "execution_count": 79,
   "metadata": {},
   "outputs": [
    {
     "data": {
      "text/plain": [
       "<tf.Tensor: shape=(1, 5), dtype=int8, numpy=array([[0, 0, 0, 0, 0]], dtype=int8)>"
      ]
     },
     "execution_count": 79,
     "metadata": {},
     "output_type": "execute_result"
    }
   ],
   "source": [
    "# Discards\n",
    "k = 0\n",
    "discard_k = list(it.combinations_with_replacement(range(5), k))\n",
    "discard_k = tf.constant(discard_k, dtype=tf.int8)\n",
    "discard_k = tf.one_hot(discard_k, depth=5, axis=-1, dtype=tf.int8)\n",
    "discard_k = tf.reduce_sum(discard_k, axis=1)\n",
    "discard_k"
   ]
  },
  {
   "cell_type": "code",
   "execution_count": null,
   "metadata": {},
   "outputs": [],
   "source": [
    "# Repeating discards in int32\n",
    "\n",
    "k = 3\n",
    "discard_k = list(it.combinations_with_replacement(range(5), k))\n",
    "discard_k = tf.constant(discard_k, dtype=tf.int32)\n",
    "discard_k = tf.one_hot(discard_k, depth=5, axis=-1, dtype=tf.int32)\n",
    "discard_k = tf.reduce_sum(discard_k, axis=1)\n",
    "\n",
    "# Take 3 different (or less?)\n",
    "board_gems = [5, 0, 2, 0, 4]\n",
    "\n",
    "take_3 = list(it.combinations(range(5), 3))\n",
    "take_3 = tf.constant(take_3, dtype=tf.int32)\n",
    "\n",
    "board_0_mask = tf.reduce_all(tf.gather(board_gems, take_3) > 0, axis=1)\n",
    "take_3 = tf.boolean_mask(take_3, board_0_mask)\n",
    "\n",
    "take_3 = tf.one_hot(take_3, depth=5, axis=-1, dtype=tf.int32)\n",
    "take_3 = tf.reduce_sum(take_3, axis=1)\n",
    "\n",
    "combined_3D = take_3[:, None, :] - discard_k[None, :, :]\n",
    "combined_2D = tf.reshape(combined_3D, (-1, 5))\n",
    "combined_2D\n"
   ]
  },
  {
   "cell_type": "code",
   "execution_count": null,
   "metadata": {},
   "outputs": [],
   "source": [
    "# Take 3 different (or less?)\n",
    "board_gems = [5, 0, 2, 0, 4]\n",
    "\n",
    "take_3 = list(it.combinations(range(5), 3))\n",
    "take_3 = tf.constant(take_3, dtype=tf.int8)\n",
    "take_3 = tf.one_hot(take_3, depth=5, axis=-1, dtype=tf.int8)\n",
    "take_3 = tf.reduce_sum(take_3, axis=1)\n",
    "\n",
    "combined_3D = take_3[:, None, :] - discard_k[None, :, :]\n",
    "combined_2D = tf.reshape(combined_3D, (-1, 5))\n",
    "combined_2D\n"
   ]
  },
  {
   "cell_type": "code",
   "execution_count": null,
   "metadata": {},
   "outputs": [],
   "source": [
    "board_gems = [5, 5, 5, 5, 5]\n",
    "player_gems = [5, 5, 5, 5, 5]\n",
    "\n",
    "# Discards\n",
    "k = 3\n",
    "discard_k = list(it.combinations_with_replacement(range(5), k))\n",
    "discard_k = tf.constant(discard_k, dtype=tf.int8)\n",
    "discard_k = tf.one_hot(discard_k, depth=5, axis=-1, dtype=tf.int8)\n",
    "discard_k = tf.reduce_sum(discard_k, axis=1)\n",
    "\n",
    "\n",
    "# Take 3 different\n",
    "take_3 = list(it.combinations(range(5), 3))\n",
    "take_3 = tf.constant(take_3, dtype=tf.int32)\n",
    "\n",
    "# Masking out where there are no board gems\n",
    "respective_board_gems = tf.gather(tf.cast(board_gems, tf.int32), take_3)\n",
    "board_0_mask = tf.reduce_all(respective_board_gems > 0, axis=1)\n",
    "take_3 = tf.boolean_mask(take_3, board_0_mask)\n",
    "\n",
    "take_3 = tf.one_hot(take_3, depth=5, axis=-1, dtype=tf.int8)\n",
    "take_3 = tf.reduce_sum(take_3, axis=1)\n",
    "\n",
    "\n",
    "# Take 2 same\n",
    "take_2_same = tf.eye(5, dtype=tf.int8)*2\n",
    "\n",
    "# Masking out where there are not at least 4 board gems\n",
    "board_4_mask = tf.greater_equal(board_gems, 4)\n",
    "take_2_same = tf.boolean_mask(take_2_same, board_4_mask)\n",
    "\n",
    "\n",
    "# Combine takes with discards\n",
    "all_takes = tf.concat([take_3, take_2_same], axis=0)\n",
    "combined_3D = all_takes[:, None, :] - discard_k[None, :, :]\n",
    "combined_2D = tf.reshape(combined_3D, (-1, 5)) \n",
    "combined_2D"
   ]
  },
  {
   "cell_type": "code",
   "execution_count": null,
   "metadata": {},
   "outputs": [],
   "source": [
    "combined_2D_np = combined_2D.numpy()\n",
    "unique_rows, counts = np.unique(combined_2D_np, axis=0, return_counts=True)\n",
    "num_duplicates = np.sum(counts[counts > 1] - 1)\n",
    "\n",
    "print(f\"Total rows: {len(combined_2D_np)}, Duplicate rows: {num_duplicates}\")\n"
   ]
  },
  {
   "cell_type": "code",
   "execution_count": null,
   "metadata": {},
   "outputs": [],
   "source": [
    "board_gems = [5, 5, 5, 5, 5]\n",
    "player_gems = [5, 5, 5, 5, 5]\n",
    "\n",
    "# Discards\n",
    "k = 3\n",
    "discard_k = list(it.combinations_with_replacement(range(5), k))\n",
    "discard_k = tf.constant(discard_k, dtype=tf.int8)\n",
    "discard_k = tf.one_hot(discard_k, depth=5, axis=-1, dtype=tf.int8)\n",
    "discard_k = tf.reduce_sum(discard_k, axis=1)\n",
    "\n",
    "\n",
    "# Take 3 different\n",
    "take_3 = list(it.combinations(range(5), 3))\n",
    "take_3 = tf.constant(take_3, dtype=tf.int32)\n",
    "\n",
    "# Masking out where there are no board gems\n",
    "respective_board_gems = tf.gather(tf.cast(board_gems, tf.int32), take_3)\n",
    "board_0_mask = tf.reduce_all(respective_board_gems > 0, axis=1)\n",
    "take_3 = tf.boolean_mask(take_3, board_0_mask)\n",
    "\n",
    "take_3 = tf.one_hot(take_3, depth=5, axis=-1, dtype=tf.int8)\n",
    "take_3 = tf.reduce_sum(take_3, axis=1)\n",
    "\n",
    "\n",
    "# Take 2 same\n",
    "take_2_same = tf.eye(5, dtype=tf.int8)*2\n",
    "\n",
    "# Masking out where there are not at least 4 board gems\n",
    "board_4_mask = tf.greater_equal(board_gems, 4)\n",
    "take_2_same = tf.boolean_mask(take_2_same, board_4_mask)\n",
    "\n",
    "\n",
    "# Combine takes with discards\n",
    "all_takes = tf.concat([take_3, take_2_same], axis=0)\n",
    "combined_3D = all_takes[:, None, :] - discard_k[None, :, :]\n",
    "combined_2D = tf.reshape(combined_3D, (-1, 5)) \n",
    "combined_2D"
   ]
  }
 ],
 "metadata": {
  "kernelspec": {
   "display_name": "Python 3",
   "language": "python",
   "name": "python3"
  },
  "language_info": {
   "codemirror_mode": {
    "name": "ipython",
    "version": 3
   },
   "file_extension": ".py",
   "mimetype": "text/x-python",
   "name": "python",
   "nbconvert_exporter": "python",
   "pygments_lexer": "ipython3",
   "version": "3.11.2"
  }
 },
 "nbformat": 4,
 "nbformat_minor": 2
}
